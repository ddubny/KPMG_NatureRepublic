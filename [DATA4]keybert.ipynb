{
 "cells": [
  {
   "attachments": {},
   "cell_type": "markdown",
   "metadata": {},
   "source": [
    "## 데이터 로드"
   ]
  },
  {
   "cell_type": "code",
   "execution_count": null,
   "metadata": {},
   "outputs": [],
   "source": [
    "import pandas as pd"
   ]
  },
  {
   "cell_type": "code",
   "execution_count": null,
   "metadata": {},
   "outputs": [],
   "source": [
    "df = pd.read_csv('/home/kic/kpmg/수정/kpmg_list.csv')\n",
    "df"
   ]
  },
  {
   "cell_type": "code",
   "execution_count": null,
   "metadata": {},
   "outputs": [],
   "source": [
    "df.dropna(inplace=True)"
   ]
  },
  {
   "cell_type": "code",
   "execution_count": null,
   "metadata": {},
   "outputs": [],
   "source": [
    "df.reset_index(drop=True,inplace=True)\n",
    "df"
   ]
  },
  {
   "cell_type": "code",
   "execution_count": null,
   "metadata": {},
   "outputs": [],
   "source": [
    "df.to_csv('/home/kic/kpmg/kmpg_list.csv',encoding='utf-8')"
   ]
  },
  {
   "cell_type": "code",
   "execution_count": null,
   "metadata": {},
   "outputs": [],
   "source": [
    "df['Busines_report']=df['Busines_report'].str.replace('\\n', ' ')\n",
    "df['Busines_report']=df['Busines_report'].str.replace('\\r','')\n",
    "df['Busines_report']=df['Busines_report'].str.replace('\\xad','')\n"
   ]
  },
  {
   "attachments": {},
   "cell_type": "markdown",
   "metadata": {},
   "source": [
    "## KeyBERT "
   ]
  },
  {
   "cell_type": "code",
   "execution_count": null,
   "metadata": {},
   "outputs": [],
   "source": [
    "from tqdm import tqdm"
   ]
  },
  {
   "cell_type": "code",
   "execution_count": null,
   "metadata": {},
   "outputs": [],
   "source": [
    "from keybert import KeyBERT\n",
    "\n",
    "kw_model = KeyBERT()    "
   ]
  },
  {
   "cell_type": "code",
   "execution_count": null,
   "metadata": {},
   "outputs": [],
   "source": [
    "keyword=[]\n",
    "i=0\n",
    "for i in tqdm(range(len(df['Busines_report']))):\n",
    "    try:\n",
    "            keywords = kw_model.extract_keywords(df['Busines_report'][i],top_n=10)\n",
    "            keyword.append(keywords)\n",
    "            i+=1\n",
    "    except  :\n",
    "            print(i)\n",
    "        "
   ]
  },
  {
   "cell_type": "code",
   "execution_count": null,
   "metadata": {},
   "outputs": [],
   "source": [
    "keyword[61]"
   ]
  },
  {
   "cell_type": "code",
   "execution_count": null,
   "metadata": {},
   "outputs": [],
   "source": [
    "df['keyword']=keyword"
   ]
  },
  {
   "cell_type": "code",
   "execution_count": null,
   "metadata": {},
   "outputs": [],
   "source": [
    "df.drop(['rcept_no'],axis=1,inplace=True)"
   ]
  },
  {
   "cell_type": "code",
   "execution_count": null,
   "metadata": {},
   "outputs": [],
   "source": [
    "df"
   ]
  },
  {
   "cell_type": "code",
   "execution_count": null,
   "metadata": {},
   "outputs": [],
   "source": [
    "df['keyword']=df['keyword'].apply(str)"
   ]
  },
  {
   "attachments": {},
   "cell_type": "markdown",
   "metadata": {},
   "source": [
    "## 자연어 처리"
   ]
  },
  {
   "cell_type": "code",
   "execution_count": null,
   "metadata": {},
   "outputs": [],
   "source": [
    "pip install konlpy"
   ]
  },
  {
   "cell_type": "code",
   "execution_count": null,
   "metadata": {},
   "outputs": [],
   "source": [
    "from konlpy.tag import Hannanum\n",
    "\n",
    "hannanum =Hannanum()"
   ]
  },
  {
   "cell_type": "code",
   "execution_count": null,
   "metadata": {},
   "outputs": [],
   "source": [
    "#한나눔\n",
    "key =[]\n",
    "\n",
    "i=0\n",
    "for i in tqdm(range(len(df['keyword']))):\n",
    "    keywords = hannanum.nouns(df['keyword'][i])\n",
    "    key.append(keywords)"
   ]
  },
  {
   "cell_type": "code",
   "execution_count": null,
   "metadata": {},
   "outputs": [],
   "source": [
    "key[0]"
   ]
  },
  {
   "cell_type": "code",
   "execution_count": null,
   "metadata": {},
   "outputs": [],
   "source": [
    "key_list.clear()"
   ]
  },
  {
   "cell_type": "code",
   "execution_count": null,
   "metadata": {},
   "outputs": [],
   "source": [
    "import re"
   ]
  },
  {
   "cell_type": "code",
   "execution_count": null,
   "metadata": {},
   "outputs": [],
   "source": [
    "key_list=[]\n",
    "j=0\n",
    "i=0\n",
    "for j in tqdm(range(len(key))):\n",
    "    a =[]\n",
    "    for i in range(len(key[j])):\n",
    "        keys = key[j][i]\n",
    "        keywords =''.join(keys) #str변환\n",
    "        keywords = re.sub(\"[()]\",'', keywords)#괄호제거\n",
    "        keywords = re.sub(\"[.]\",'', keywords)#.제거\n",
    "        keywords = re.sub(r\"[^\\uAC00-\\uD7A30-9a-zA-Z\\s]\",\"\",keywords)#특수문자제거\n",
    "        keywords = re.sub(r\"[0-9]\", '', keywords)#숫자제거\n",
    "        keywords = re.sub(r\"[과]\", '', keywords)\n",
    "        keywords = re.sub(r\"[와]\", '', keywords)\n",
    "        keywords = re.sub(r\"[의]\", '', keywords)\n",
    "        keywords = re.sub(r\"[을]\", '', keywords)\n",
    "        keywords = re.sub(\"'\",'', keywords)\n",
    "        \n",
    "        a.append(keywords)\n",
    "        i +=1\n",
    "        set(a)\n",
    "    key_list.append(a)\n",
    "    j +=1"
   ]
  },
  {
   "cell_type": "code",
   "execution_count": null,
   "metadata": {},
   "outputs": [],
   "source": [
    "key_list[0]"
   ]
  },
  {
   "cell_type": "code",
   "execution_count": null,
   "metadata": {},
   "outputs": [],
   "source": [
    "for i in range(len(key_list)):\n",
    "    key_list[i]= list(filter(None,key_list[i]))\n",
    "    i +=1\n",
    "#중복제거"
   ]
  },
  {
   "cell_type": "code",
   "execution_count": null,
   "metadata": {},
   "outputs": [],
   "source": [
    "df['kye_list']=key_list\n",
    "df = df.drop(['keyword'],axis=1)"
   ]
  },
  {
   "cell_type": "code",
   "execution_count": null,
   "metadata": {},
   "outputs": [],
   "source": [
    "df= df.drop(['Unnamed: 0'],axis=1)\n",
    "df"
   ]
  },
  {
   "cell_type": "code",
   "execution_count": null,
   "metadata": {},
   "outputs": [],
   "source": [
    "df.to_csv('/home/kic/kpmg/kpmg_key(keybert).csv',encoding='utf-8')"
   ]
  },
  {
   "cell_type": "code",
   "execution_count": null,
   "metadata": {},
   "outputs": [],
   "source": [
    "df=pd.read_csv('/home/kic/kpmg/kpmg(keybert).csv')\n",
    "df['kye_list']"
   ]
  }
 ],
 "metadata": {
  "kernelspec": {
   "display_name": "jbnu",
   "language": "python",
   "name": "python3"
  },
  "language_info": {
   "codemirror_mode": {
    "name": "ipython",
    "version": 3
   },
   "file_extension": ".py",
   "mimetype": "text/x-python",
   "name": "python",
   "nbconvert_exporter": "python",
   "pygments_lexer": "ipython3",
   "version": "3.10.9"
  },
  "orig_nbformat": 4,
  "vscode": {
   "interpreter": {
    "hash": "ab99aeb74e800cddeddd90cbec21ff2756abb5b97b4b71bf3a1dcdf227ca9b5a"
   }
  }
 },
 "nbformat": 4,
 "nbformat_minor": 2
}
