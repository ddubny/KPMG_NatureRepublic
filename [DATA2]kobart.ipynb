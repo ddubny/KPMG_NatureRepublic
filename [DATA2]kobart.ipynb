{
 "cells": [
  {
   "attachments": {},
   "cell_type": "markdown",
   "metadata": {},
   "source": [
    "## pip"
   ]
  },
  {
   "cell_type": "code",
   "execution_count": null,
   "metadata": {},
   "outputs": [],
   "source": [
    "!pip install pororo\n",
    "!pip install transformers\n",
    "!pip install jupyter-tensorboard\n",
    "!pip install sentence_transformers"
   ]
  },
  {
   "cell_type": "code",
   "execution_count": null,
   "metadata": {},
   "outputs": [],
   "source": [
    "pip install easydict"
   ]
  },
  {
   "attachments": {},
   "cell_type": "markdown",
   "metadata": {},
   "source": [
    "## 라이브러리"
   ]
  },
  {
   "cell_type": "code",
   "execution_count": null,
   "metadata": {},
   "outputs": [],
   "source": [
    "from tqdm import tqdm\n",
    "import pandas as pd\n",
    "import numpy as np\n",
    "import transformers\n",
    "import torch\n",
    "from transformers import PreTrainedTokenizerFast\n",
    "from transformers import BartForConditionalGeneration\n",
    "import re\n",
    "from kobert_tokenizer import KoBERTTokenizer"
   ]
  },
  {
   "cell_type": "code",
   "execution_count": null,
   "metadata": {},
   "outputs": [],
   "source": [
    "\n",
    "## Version.\n",
    "print(\"[VERSION]\")\n",
    "print(f\"torch: {torch.__version__}\")\n",
    "print(f\"transformers: {transformers.__version__}\")\n",
    "     "
   ]
  },
  {
   "attachments": {},
   "cell_type": "markdown",
   "metadata": {},
   "source": [
    "## 데이터 로드"
   ]
  },
  {
   "cell_type": "code",
   "execution_count": null,
   "metadata": {},
   "outputs": [],
   "source": [
    "df= pd.read_csv('/home/kic/kpmg/base_report.csv',encoding='utf-8',error_bad_lines=False,engine='python')\n",
    "df"
   ]
  },
  {
   "cell_type": "code",
   "execution_count": 4,
   "metadata": {},
   "outputs": [],
   "source": [
    "text =df['full_text']"
   ]
  },
  {
   "attachments": {},
   "cell_type": "markdown",
   "metadata": {},
   "source": [
    "## 추가데이터"
   ]
  },
  {
   "cell_type": "code",
   "execution_count": 5,
   "metadata": {},
   "outputs": [],
   "source": [
    "#추가 데이터 학습\n",
    "def __init__(self, hparams, **kwargs):\n",
    "        super(KoBARTConditionalGeneration, self).__init__(hparams, **kwargs)\n",
    "        self.model = BartForConditionalGeneration.from_pretrained(get_pytorch_kobart_model(df.iloc['Busines_report'][:500]))\n",
    "        self.model.train()\n",
    "        self.bos_token = '<s>'\n",
    "        self.eos_token = '</s>'\n",
    "        self.pad_token_id = 0\n",
    "        self.tokenizer = get_kobart_tokenizer(df.iloc[:300,['full_text']])\n"
   ]
  },
  {
   "attachments": {},
   "cell_type": "markdown",
   "metadata": {},
   "source": [
    "## 문장구분"
   ]
  },
  {
   "cell_type": "code",
   "execution_count": null,
   "metadata": {},
   "outputs": [],
   "source": [
    "tokenizer = PreTrainedTokenizerFast.from_pretrained('gogamza/kobart-summarization')\n",
    "model = BartForConditionalGeneration.from_pretrained('gogamza/kobart-summarization')\n",
    "#tokenizer = KoBERTTokenizer.from_pretrained(df.loc[:300])"
   ]
  },
  {
   "cell_type": "code",
   "execution_count": 7,
   "metadata": {},
   "outputs": [],
   "source": [
    "#요약\n",
    "def summarize(text):\n",
    "    \n",
    "    context_tokens = ['<s>'] + tokenizer.tokenize(text) + ['</s>']\n",
    "    input_ids = tokenizer.convert_tokens_to_ids(context_tokens) \n",
    "\n",
    "    if len(input_ids) < 512:   \n",
    "            while len(input_ids) < 512: \n",
    "                input_ids += [tokenizer.pad_token_id] \n",
    "\n",
    "    else:\n",
    "        input_ids = input_ids[:512 - 1] + [   \n",
    "            tokenizer.eos_token_id]\n",
    "\n",
    "    res_ids = model.generate(torch.tensor([input_ids]),\n",
    "                                        max_length=1024,\n",
    "                                        num_beams=3,\n",
    "                                        no_repeat_ngram_size = 3,\n",
    "                                        eos_token_id=tokenizer.eos_token_id,\n",
    "                                        bad_words_ids=[[tokenizer.unk_token_id]])        \n",
    "    \n",
    "    res = tokenizer.batch_decode(res_ids.tolist(), skip_special_tokens=True)[0]\n",
    "    \n",
    "    return res"
   ]
  },
  {
   "cell_type": "code",
   "execution_count": 8,
   "metadata": {},
   "outputs": [],
   "source": [
    "# 문장 구분\n",
    "def sent_spllit(text):\n",
    "    k = text.split('\\n')\n",
    "    for sent in range(len(k) - 1):\n",
    "        k[sent] = k[sent] + \" \"\n",
    "        if k[sent][0] == \" \":\n",
    "            k[sent] = k[sent][1:]\n",
    "    return k"
   ]
  },
  {
   "cell_type": "code",
   "execution_count": 9,
   "metadata": {},
   "outputs": [],
   "source": [
    "#접두사 요소 생성\n",
    "def starts_with(text):\n",
    "    list =[]\n",
    "\n",
    "    for i in range(100):\n",
    "        list.append(f'{i}.')\n",
    "\n",
    "    list =tuple(list)\n",
    "\n",
    "    #항목별('1.','2.'인덱스 추출)\n",
    "    k= sent_spllit(text)\n",
    "    indexs =[]\n",
    "    for i in range(len(k)):\n",
    "        if k[i].startswith(list):\n",
    "            indexs.append(i)\n",
    "\n",
    "    lists =[]\n",
    "    i = 0 \n",
    "    for i in (range(len(indexs))):\n",
    "        if i >=(len(indexs)-1):\n",
    "            a = k[indexs[i-1]:]\n",
    "            a ='\\n'.join(a)\n",
    "            lists.append(a)\n",
    "\n",
    "        else:\n",
    "            a= k[indexs[i]:indexs[i+1]]\n",
    "            a='\\n'.join(a)\n",
    "            lists.append(a)\n",
    "\n",
    "        i +=1\n",
    "    return lists"
   ]
  },
  {
   "cell_type": "code",
   "execution_count": 10,
   "metadata": {},
   "outputs": [],
   "source": [
    "#요소별 summarize\n",
    "def sum_list(list):\n",
    "    sum=[]\n",
    "    for i in tqdm(range(len(list))):\n",
    "        sum.append(summarize(list[i]))\n",
    "    return sum"
   ]
  },
  {
   "cell_type": "code",
   "execution_count": 11,
   "metadata": {},
   "outputs": [
    {
     "data": {
      "text/plain": [
       "3407"
      ]
     },
     "execution_count": 11,
     "metadata": {},
     "output_type": "execute_result"
    }
   ],
   "source": [
    "len(df['full_text'][500:])"
   ]
  },
  {
   "cell_type": "code",
   "execution_count": null,
   "metadata": {},
   "outputs": [],
   "source": [
    "results.clear()"
   ]
  },
  {
   "cell_type": "code",
   "execution_count": 33,
   "metadata": {},
   "outputs": [],
   "source": [
    "result.clear()"
   ]
  },
  {
   "cell_type": "code",
   "execution_count": null,
   "metadata": {},
   "outputs": [],
   "source": [
    "results =[]\n",
    "i=500\n",
    "for i in tqdm(df['full_text'][500:]):\n",
    "    list = starts_with(i)\n",
    "    result  = sum_list(list)\n",
    "    results.append(result)"
   ]
  },
  {
   "cell_type": "code",
   "execution_count": 21,
   "metadata": {},
   "outputs": [
    {
     "data": {
      "text/plain": [
       "['2021년 01월 01일부터 2021년 12월 31일까지 (주)대성미생물연구소  202(당) 기    5. 재무제표 주석  2021년 02월 011일부터 2020년 12월 31일 까지  2021월 021일부터  2018년 12월 31일까지의  2022년 재무제표를   (주)당(주)대성 미생물연구소가   지정했다. ',\n",
       " \"2000년 3월 31일자로 한국증권업협회 및 코스닥증권시장에 등록된 '대성미생물연구소'는 1966년 2월 4일 설립되어 동물의약품류의 제조 및 판매업을 영위하고 있으며  사업의 주요 주주이며 주요 주주현황은 다음과 같다.\",\n",
       " '2021년 1월 1일로 개시하는 회계기간부터 한국채택국제회계기준을 적용하고 있는 바른미래당사는 회계정책과 공시의 변경폭이 크지만 재무제표 작성시 중요한 회계추정의 사용을 허용하고 있으며, 회계정책을 적용함에 있어 경영진의 판단을 요구하고 있다.',\n",
       " ' 2018당사는 보유현금과 요구불예금, 유동성이 매우 높고 확정된 금액의 현금으로 전환이 용이하고 가치변동의 위험이 경미한 단기 투자자산을 현금 및 현금성자산으로 분류하고 있으며 최초 인식 후에 원가에서 감가상각누계액과 손상차손누계액을 차감한 금액을 장부금액으로 표시하고 있다.',\n",
       " '당기말 및 전기말 현재 매출채권의 약정회수기일기준 연령분석은 다음과 같으며 당기말과 전기말 매출채권은 장부금액과 공정가치와의 차이가 중요하지 않아 상각후원가로 측정하였습니다.',\n",
       " '당사는 진부화된 재고를 폐기처분하므로 보유하고 있지 않으며 재고자산 3위 3위인 당기말과 전기말 현재 재고자산의 내역은 다음과 같다.',\n",
       " '6. 관계기업투자 등 출자지분에 대한 내역은 다음과 같다.',\n",
       " '당사가 토지, 건물 및 기계장치에 대하여 채권최고액 28,264백만원의 근저당권이 설정되어 있고 당기말 현재 당사가 보유하고 있는 토지의 공시지가 내역은 다음과 같다.',\n",
       " ' 2018당사는 상기보험외에 종업원에 대한 산재보험과 차량운반구에 대한 종합보험 및  러시아의 보험에 가입하고 있으며  2018~2019 회계연도말 현재 당사의 재고자산 및 유형자산에 대한 보험가입내역은 다음과 같다.',\n",
       " '9. 사용권자산인 서울 사무실의 리스기간은 2년이며 매년 갱신되고 있으며 당기말 현재 리스부채의 만기별 상환계획은 다음과 같다.',\n",
       " '러시아의 개발회사가 개발비 인식요건을 충족하지 못하는 프로젝트에 대하여는 당기에 손상을 인식하여 장부가액을 감소시켰는데, 이는 개발비자산 회계정책을 원칙적으로 적용하되, 세부적으로는 인건비배부등의 자산요소에 대하여 더이상 자산화하지 않았다는 것을 의미한다.',\n",
       " '퇴직급여채무의 보험수리적 평가는 적격성이 있는 독립적인 보험계리인에 의해 예측단위적립방식을 사용하여 수행되었으며 당기말 및 전기말 현재 확정급여부채로 인식된 금액은 다음과 같다.',\n",
       " '현재 당사가 발행할 주식의 총수는 12,000,000주이고 1주당 액면금액은 500원이며 자본금은 1,900백만원이고  10.',\n",
       " '2000년 10월 1일자로 당사 소유 유형자산에 대하여 자산재평가를 실시하여 자산재평가차액 3,254백만원이 발생하였고 관련 자산 재평가세 등을 차감한 후 잔액 3,157백만원을 재평가적립금으로 계상하였으며 동적립금은 자본전입이나 결손보전 이외에는 사용이 제한되어 있다.  \\n(주1) 기타자본잉여금은 자기주식처분이익으로 전기 이전에 발생된 것입니다. \\n',\n",
       " '세법상 준비금은 이익잉여금의 적립의무 및 사용제한이 없으며, 동 적립금은 이월결손금의 보전과 자본전입 이외에는 사용될 수 없습니다.',\n",
       " '당사는 당기말 현재 서울보증보험으로부터 565만원의 지급보증을 제공받고 있지만 소송중인 사건은 없으며, 채무관련 약정사항은 다음과 같다.',\n",
       " '당사의 기업활동의 계획ᆞ운영ᆞ통제에 대한 중요한 권한과 책임을 가지고 있는 등기이사 및 사외이사를 포함한 18명의 주요 경영진에 대한 보상내역은 다음과 같다. ',\n",
       " '당기말 현재 당사가 제공하고 있는 담보의 내역은 다음과 같습니다. ',\n",
       " '20. 판매비와 관리비의 내역은 다음과 같습니다. ',\n",
       " '21. 기타수익 및 비용 \\n(1) 기타수익위원회와 위원회 중 기타비용의 내역은 다음과 같습니다. ',\n",
       " '당기와 전기 중 금융수익에 포함된 이자수익은 전액 금융기관예치금과 관련된 이자수익이고, 리스부채 관련 이자비용은 리스 부채 관련 이자수익이며, 당기말 및 전기말 현재 금융상품의 분류내역은 다음과 같다.',\n",
       " '23. 비용의 성격별 내역은 다음과 같습니다. ',\n",
       " '당사는 당기 및 전기의 법인세비용의 주요 구성내역은 다음과 같으며 당기말 모든 차감할 일시적 차이에 대하여 실현가능성이 있다고 판단하여 이연법인세자산을 인식하였다고 전하였다.',\n",
       " '25. 주당당기 및 전기 중 당사의 보통주식수의 변동이 없으므로 가중평균유통보통주식수는 발행주식수와 동일하고 배당순이익은 기본주당순이익과 동일하다. ',\n",
       " \"26. 영업활동 현금흐름에 대해 러시아어로는 러시아어로, 러시아어는 러시아어로 '러시아어'로 번역된다.\",\n",
       " '27. 부가가치 계산에 필요한 계정은 다음과 같습니다. ',\n",
       " '당기와 전기 중 주요 경영진에 대한 보상내역은 주석18을 참조하시기 바랍니다.',\n",
       " '당사는 재무적 성과에 영향을 미치는 잠재적 위험을 식별하여 당사가 허용가능한 수준으로 감소, 제거 및 회피하는 것을 목적으로 하는 위험관리의 개요와 관련하여 당사의 재무부문은 이사회에서 승인된 위험관리 정책 및 절차에 따라 당사의 영업과 관련한 금융위험을 감시하고 관리하는 역할을 하고 있다.']"
      ]
     },
     "execution_count": 21,
     "metadata": {},
     "output_type": "execute_result"
    }
   ],
   "source": [
    "results[0]"
   ]
  },
  {
   "attachments": {},
   "cell_type": "markdown",
   "metadata": {},
   "source": [
    "## result 데이터프레임 만들기"
   ]
  },
  {
   "cell_type": "code",
   "execution_count": null,
   "metadata": {},
   "outputs": [],
   "source": [
    "\n",
    "df2 = pd.DataFrame()\n",
    "df2 =df2.append(pd.Series(results), ignore_index = True)"
   ]
  },
  {
   "cell_type": "code",
   "execution_count": 31,
   "metadata": {},
   "outputs": [
    {
     "data": {
      "text/html": [
       "<div>\n",
       "<style scoped>\n",
       "    .dataframe tbody tr th:only-of-type {\n",
       "        vertical-align: middle;\n",
       "    }\n",
       "\n",
       "    .dataframe tbody tr th {\n",
       "        vertical-align: top;\n",
       "    }\n",
       "\n",
       "    .dataframe thead th {\n",
       "        text-align: right;\n",
       "    }\n",
       "</style>\n",
       "<table border=\"1\" class=\"dataframe\">\n",
       "  <thead>\n",
       "    <tr style=\"text-align: right;\">\n",
       "      <th></th>\n",
       "      <th>0</th>\n",
       "    </tr>\n",
       "  </thead>\n",
       "  <tbody>\n",
       "    <tr>\n",
       "      <th>0</th>\n",
       "      <td>[2021년 01월 01일부터 2021년 12월 31일까지 (주)대성미생물연구소  ...</td>\n",
       "    </tr>\n",
       "    <tr>\n",
       "      <th>1</th>\n",
       "      <td>[5. 재무제표 주석 알렉산드로이드제44기 2021년 12월 31일 현재  러시아의...</td>\n",
       "    </tr>\n",
       "    <tr>\n",
       "      <th>2</th>\n",
       "      <td>[5. 재무제표 주석 \\n주석 \\n제 21(당) 기 : 2021년 12월 31일 현...</td>\n",
       "    </tr>\n",
       "    <tr>\n",
       "      <th>3</th>\n",
       "      <td>[재무제표 주석, 1997년 2월 14일 설립되어 연간 120만톤의 조강 생산능력을...</td>\n",
       "    </tr>\n",
       "    <tr>\n",
       "      <th>4</th>\n",
       "      <td>[5. 재무제표 주석 5 기 : 2021년 1월 1일 부터 2021년 12월 31일...</td>\n",
       "    </tr>\n",
       "    <tr>\n",
       "      <th>...</th>\n",
       "      <td>...</td>\n",
       "    </tr>\n",
       "    <tr>\n",
       "      <th>435</th>\n",
       "      <td>[재무제표 주석, (주)에너지토크는 자동조정 및 제어 장비 제조판매업을 주요사업으로...</td>\n",
       "    </tr>\n",
       "    <tr>\n",
       "      <th>436</th>\n",
       "      <td>[재무제표 주석, 1963년 3월 9일에 설립되어 플랜트 엔지니어링 용역, 종합건설...</td>\n",
       "    </tr>\n",
       "    <tr>\n",
       "      <th>437</th>\n",
       "      <td>[5. 재무제표 주석  5., 외환신용카드 주식회사를 흡수합병하고 법인명을 하나은행...</td>\n",
       "    </tr>\n",
       "    <tr>\n",
       "      <th>438</th>\n",
       "      <td>[2021년 12월 31일 현재 \\n주식회사 인디에프, 당사의 의류 제조 및 판매를...</td>\n",
       "    </tr>\n",
       "    <tr>\n",
       "      <th>439</th>\n",
       "      <td>[2021년 01월 01일부터  2021년 12월 31일까지   202주식회사 케이...</td>\n",
       "    </tr>\n",
       "  </tbody>\n",
       "</table>\n",
       "<p>440 rows × 1 columns</p>\n",
       "</div>"
      ],
      "text/plain": [
       "                                                     0\n",
       "0    [2021년 01월 01일부터 2021년 12월 31일까지 (주)대성미생물연구소  ...\n",
       "1    [5. 재무제표 주석 알렉산드로이드제44기 2021년 12월 31일 현재  러시아의...\n",
       "2    [5. 재무제표 주석 \\n주석 \\n제 21(당) 기 : 2021년 12월 31일 현...\n",
       "3    [재무제표 주석, 1997년 2월 14일 설립되어 연간 120만톤의 조강 생산능력을...\n",
       "4    [5. 재무제표 주석 5 기 : 2021년 1월 1일 부터 2021년 12월 31일...\n",
       "..                                                 ...\n",
       "435  [재무제표 주석, (주)에너지토크는 자동조정 및 제어 장비 제조판매업을 주요사업으로...\n",
       "436  [재무제표 주석, 1963년 3월 9일에 설립되어 플랜트 엔지니어링 용역, 종합건설...\n",
       "437  [5. 재무제표 주석  5., 외환신용카드 주식회사를 흡수합병하고 법인명을 하나은행...\n",
       "438  [2021년 12월 31일 현재 \\n주식회사 인디에프, 당사의 의류 제조 및 판매를...\n",
       "439  [2021년 01월 01일부터  2021년 12월 31일까지   202주식회사 케이...\n",
       "\n",
       "[440 rows x 1 columns]"
      ]
     },
     "execution_count": 31,
     "metadata": {},
     "output_type": "execute_result"
    }
   ],
   "source": [
    "df2=df2.transpose()\n",
    "df2"
   ]
  },
  {
   "cell_type": "code",
   "execution_count": 32,
   "metadata": {},
   "outputs": [],
   "source": [
    "df2 = df2.to_csv('/home/kic/kpmg/summary[:439].csv')\n"
   ]
  },
  {
   "cell_type": "code",
   "execution_count": null,
   "metadata": {},
   "outputs": [],
   "source": [
    "df3 = pd.read_csv('/home/kic/kpmg/summary[:439].csv',encoding='utf-8')\n",
    "df3"
   ]
  },
  {
   "cell_type": "code",
   "execution_count": null,
   "metadata": {},
   "outputs": [],
   "source": [
    "df1 = pd.read_csv('/home/kic/kpmg/summary[:439].csv')\n",
    "df1"
   ]
  },
  {
   "cell_type": "code",
   "execution_count": null,
   "metadata": {},
   "outputs": [],
   "source": [
    "df = pd.read_csv('/home/kic/kpmg/summary[:499].csv')\n",
    "df"
   ]
  },
  {
   "cell_type": "code",
   "execution_count": null,
   "metadata": {},
   "outputs": [],
   "source": [
    "df4 = pd.concat([df, df1])\n",
    "df4.rename(columns={'0':'summary'},inplace=True)\n",
    "df4"
   ]
  },
  {
   "cell_type": "code",
   "execution_count": null,
   "metadata": {},
   "outputs": [],
   "source": [
    "df2 = pd.DataFrame(index=range(0,2967), columns=['summary'])\n",
    "df2"
   ]
  },
  {
   "cell_type": "code",
   "execution_count": null,
   "metadata": {},
   "outputs": [],
   "source": [
    "df4 = pd.concat([df4, df2])\n",
    "df4"
   ]
  },
  {
   "cell_type": "code",
   "execution_count": null,
   "metadata": {},
   "outputs": [],
   "source": [
    "df4.drop(['Unnamed: 0'],axis=1)"
   ]
  },
  {
   "cell_type": "code",
   "execution_count": 75,
   "metadata": {},
   "outputs": [],
   "source": [
    "df5 = df4.to_csv('/home/kic/kpmg/summary.csv',encoding='utf-8')"
   ]
  }
 ],
 "metadata": {
  "kernelspec": {
   "display_name": "py38_default",
   "language": "python",
   "name": "python3"
  },
  "language_info": {
   "codemirror_mode": {
    "name": "ipython",
    "version": 3
   },
   "file_extension": ".py",
   "mimetype": "text/x-python",
   "name": "python",
   "nbconvert_exporter": "python",
   "pygments_lexer": "ipython3",
   "version": "3.8.15"
  },
  "orig_nbformat": 4,
  "vscode": {
   "interpreter": {
    "hash": "1c975a20906e8142c699e3b310c99f06555776b58f1706bf1df8dfa61229c3f5"
   }
  }
 },
 "nbformat": 4,
 "nbformat_minor": 2
}
